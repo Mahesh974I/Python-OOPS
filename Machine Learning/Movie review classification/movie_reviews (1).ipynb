{
  "nbformat": 4,
  "nbformat_minor": 0,
  "metadata": {
    "colab": {
      "name": "movie reviews.ipynb",
      "provenance": [],
      "collapsed_sections": []
    },
    "kernelspec": {
      "display_name": "Python 3",
      "name": "python3"
    },
    "language_info": {
      "name": "python"
    },
    "accelerator": "GPU"
  },
  "cells": [
    {
      "cell_type": "code",
      "metadata": {
        "id": "KQGZVdGb5lDs"
      },
      "source": [
        "import pandas as pd"
      ],
      "execution_count": 5,
      "outputs": []
    },
    {
      "cell_type": "code",
      "metadata": {
        "id": "Qu-vl5fb6kJO"
      },
      "source": [
        "from tensorflow.keras.models import Sequential,Model\n",
        "from tensorflow.keras.layers import Dense,Dropout,Bidirectional,Embedding,LSTM"
      ],
      "execution_count": 6,
      "outputs": []
    },
    {
      "cell_type": "code",
      "metadata": {
        "id": "2b7HxquB7Uz2"
      },
      "source": [
        "from tensorflow.keras.preprocessing.text import Tokenizer\n",
        "from tensorflow.keras.preprocessing.sequence import pad_sequences"
      ],
      "execution_count": 7,
      "outputs": []
    },
    {
      "cell_type": "code",
      "metadata": {
        "id": "lLYOYkiQNK6m"
      },
      "source": [
        "df = pd.read_csv('IMDB Dataset.csv')"
      ],
      "execution_count": 8,
      "outputs": []
    },
    {
      "cell_type": "code",
      "metadata": {
        "id": "eo057sKfNmVO",
        "colab": {
          "base_uri": "https://localhost:8080/",
          "height": 204
        },
        "outputId": "ee736581-016d-43a4-8e6b-c6c2ddcb70c1"
      },
      "source": [
        "df.head()"
      ],
      "execution_count": 9,
      "outputs": [
        {
          "output_type": "execute_result",
          "data": {
            "text/html": [
              "<div>\n",
              "<style scoped>\n",
              "    .dataframe tbody tr th:only-of-type {\n",
              "        vertical-align: middle;\n",
              "    }\n",
              "\n",
              "    .dataframe tbody tr th {\n",
              "        vertical-align: top;\n",
              "    }\n",
              "\n",
              "    .dataframe thead th {\n",
              "        text-align: right;\n",
              "    }\n",
              "</style>\n",
              "<table border=\"1\" class=\"dataframe\">\n",
              "  <thead>\n",
              "    <tr style=\"text-align: right;\">\n",
              "      <th></th>\n",
              "      <th>review</th>\n",
              "      <th>sentiment</th>\n",
              "    </tr>\n",
              "  </thead>\n",
              "  <tbody>\n",
              "    <tr>\n",
              "      <th>0</th>\n",
              "      <td>One of the other reviewers has mentioned that ...</td>\n",
              "      <td>positive</td>\n",
              "    </tr>\n",
              "    <tr>\n",
              "      <th>1</th>\n",
              "      <td>A wonderful little production. &lt;br /&gt;&lt;br /&gt;The...</td>\n",
              "      <td>positive</td>\n",
              "    </tr>\n",
              "    <tr>\n",
              "      <th>2</th>\n",
              "      <td>I thought this was a wonderful way to spend ti...</td>\n",
              "      <td>positive</td>\n",
              "    </tr>\n",
              "    <tr>\n",
              "      <th>3</th>\n",
              "      <td>Basically there's a family where a little boy ...</td>\n",
              "      <td>negative</td>\n",
              "    </tr>\n",
              "    <tr>\n",
              "      <th>4</th>\n",
              "      <td>Petter Mattei's \"Love in the Time of Money\" is...</td>\n",
              "      <td>positive</td>\n",
              "    </tr>\n",
              "  </tbody>\n",
              "</table>\n",
              "</div>"
            ],
            "text/plain": [
              "                                              review sentiment\n",
              "0  One of the other reviewers has mentioned that ...  positive\n",
              "1  A wonderful little production. <br /><br />The...  positive\n",
              "2  I thought this was a wonderful way to spend ti...  positive\n",
              "3  Basically there's a family where a little boy ...  negative\n",
              "4  Petter Mattei's \"Love in the Time of Money\" is...  positive"
            ]
          },
          "metadata": {},
          "execution_count": 9
        }
      ]
    },
    {
      "cell_type": "code",
      "metadata": {
        "id": "-8AFT6R9NoC-",
        "colab": {
          "base_uri": "https://localhost:8080/",
          "height": 204
        },
        "outputId": "c79968e4-ba30-4bc2-bcdd-24ef285508dd"
      },
      "source": [
        "df.tail()"
      ],
      "execution_count": 10,
      "outputs": [
        {
          "output_type": "execute_result",
          "data": {
            "text/html": [
              "<div>\n",
              "<style scoped>\n",
              "    .dataframe tbody tr th:only-of-type {\n",
              "        vertical-align: middle;\n",
              "    }\n",
              "\n",
              "    .dataframe tbody tr th {\n",
              "        vertical-align: top;\n",
              "    }\n",
              "\n",
              "    .dataframe thead th {\n",
              "        text-align: right;\n",
              "    }\n",
              "</style>\n",
              "<table border=\"1\" class=\"dataframe\">\n",
              "  <thead>\n",
              "    <tr style=\"text-align: right;\">\n",
              "      <th></th>\n",
              "      <th>review</th>\n",
              "      <th>sentiment</th>\n",
              "    </tr>\n",
              "  </thead>\n",
              "  <tbody>\n",
              "    <tr>\n",
              "      <th>49995</th>\n",
              "      <td>I thought this movie did a down right good job...</td>\n",
              "      <td>positive</td>\n",
              "    </tr>\n",
              "    <tr>\n",
              "      <th>49996</th>\n",
              "      <td>Bad plot, bad dialogue, bad acting, idiotic di...</td>\n",
              "      <td>negative</td>\n",
              "    </tr>\n",
              "    <tr>\n",
              "      <th>49997</th>\n",
              "      <td>I am a Catholic taught in parochial elementary...</td>\n",
              "      <td>negative</td>\n",
              "    </tr>\n",
              "    <tr>\n",
              "      <th>49998</th>\n",
              "      <td>I'm going to have to disagree with the previou...</td>\n",
              "      <td>negative</td>\n",
              "    </tr>\n",
              "    <tr>\n",
              "      <th>49999</th>\n",
              "      <td>No one expects the Star Trek movies to be high...</td>\n",
              "      <td>negative</td>\n",
              "    </tr>\n",
              "  </tbody>\n",
              "</table>\n",
              "</div>"
            ],
            "text/plain": [
              "                                                  review sentiment\n",
              "49995  I thought this movie did a down right good job...  positive\n",
              "49996  Bad plot, bad dialogue, bad acting, idiotic di...  negative\n",
              "49997  I am a Catholic taught in parochial elementary...  negative\n",
              "49998  I'm going to have to disagree with the previou...  negative\n",
              "49999  No one expects the Star Trek movies to be high...  negative"
            ]
          },
          "metadata": {},
          "execution_count": 10
        }
      ]
    },
    {
      "cell_type": "code",
      "metadata": {
        "colab": {
          "base_uri": "https://localhost:8080/"
        },
        "id": "YoGvPTWxNrWi",
        "outputId": "da8cf054-1fe3-4cd0-e011-4eff809e64ec"
      },
      "source": [
        "df.shape"
      ],
      "execution_count": 11,
      "outputs": [
        {
          "output_type": "execute_result",
          "data": {
            "text/plain": [
              "(50000, 2)"
            ]
          },
          "metadata": {},
          "execution_count": 11
        }
      ]
    },
    {
      "cell_type": "code",
      "metadata": {
        "colab": {
          "base_uri": "https://localhost:8080/"
        },
        "id": "nfRwHu49Ns9x",
        "outputId": "99731755-deb1-439f-a293-050b599d1f99"
      },
      "source": [
        "df.sentiment.value_counts()"
      ],
      "execution_count": 12,
      "outputs": [
        {
          "output_type": "execute_result",
          "data": {
            "text/plain": [
              "negative    25000\n",
              "positive    25000\n",
              "Name: sentiment, dtype: int64"
            ]
          },
          "metadata": {},
          "execution_count": 12
        }
      ]
    },
    {
      "cell_type": "code",
      "metadata": {
        "id": "tdPx4pcKOKEv"
      },
      "source": [
        "import nltk\n",
        "from nltk.corpus import stopwords\n",
        "from nltk.stem import PorterStemmer"
      ],
      "execution_count": 13,
      "outputs": []
    },
    {
      "cell_type": "code",
      "metadata": {
        "colab": {
          "base_uri": "https://localhost:8080/"
        },
        "id": "LZFDLdQ_On0B",
        "outputId": "600a5f30-dcee-49db-8fab-4377dc5ee593"
      },
      "source": [
        "nltk.download('punkt')"
      ],
      "execution_count": 14,
      "outputs": [
        {
          "output_type": "stream",
          "name": "stdout",
          "text": [
            "[nltk_data] Downloading package punkt to /root/nltk_data...\n",
            "[nltk_data]   Unzipping tokenizers/punkt.zip.\n"
          ]
        },
        {
          "output_type": "execute_result",
          "data": {
            "text/plain": [
              "True"
            ]
          },
          "metadata": {},
          "execution_count": 14
        }
      ]
    },
    {
      "cell_type": "code",
      "metadata": {
        "colab": {
          "base_uri": "https://localhost:8080/"
        },
        "id": "I1K16a6fOjYg",
        "outputId": "ce574e56-2baf-47fd-e204-8b5143eedb85"
      },
      "source": [
        "nltk.download('stopwords')"
      ],
      "execution_count": 15,
      "outputs": [
        {
          "output_type": "stream",
          "name": "stdout",
          "text": [
            "[nltk_data] Downloading package stopwords to /root/nltk_data...\n",
            "[nltk_data]   Unzipping corpora/stopwords.zip.\n"
          ]
        },
        {
          "output_type": "execute_result",
          "data": {
            "text/plain": [
              "True"
            ]
          },
          "metadata": {},
          "execution_count": 15
        }
      ]
    },
    {
      "cell_type": "code",
      "metadata": {
        "id": "Wn5bFvH4OvEB"
      },
      "source": [
        "stopwords = set(stopwords.words('english'))"
      ],
      "execution_count": 16,
      "outputs": []
    },
    {
      "cell_type": "code",
      "metadata": {
        "id": "yp_AmUOdO2oy"
      },
      "source": [
        "ps = PorterStemmer()"
      ],
      "execution_count": 17,
      "outputs": []
    },
    {
      "cell_type": "code",
      "metadata": {
        "id": "Kyt4ssMsYYIB"
      },
      "source": [
        "from gensim.utils import simple_preprocess"
      ],
      "execution_count": 18,
      "outputs": []
    },
    {
      "cell_type": "code",
      "metadata": {
        "id": "OMyMrndjYjOu"
      },
      "source": [
        "list2 = df.review.apply(simple_preprocess)"
      ],
      "execution_count": 19,
      "outputs": []
    },
    {
      "cell_type": "code",
      "metadata": {
        "id": "KB9szfuGQmBc"
      },
      "source": [
        "tokenizer = Tokenizer()"
      ],
      "execution_count": 20,
      "outputs": []
    },
    {
      "cell_type": "code",
      "metadata": {
        "id": "WDE9sGFcSmDS"
      },
      "source": [
        "tokenizer.fit_on_texts(list2)"
      ],
      "execution_count": 21,
      "outputs": []
    },
    {
      "cell_type": "code",
      "metadata": {
        "id": "P0vbE45xcYR_"
      },
      "source": [
        "import pickle"
      ],
      "execution_count": 22,
      "outputs": []
    },
    {
      "cell_type": "code",
      "metadata": {
        "id": "CUuDuX3tWKpt"
      },
      "source": [
        "# pickle.dump(tokenizer,open('tokenizer.pkl','wb'))"
      ],
      "execution_count": 23,
      "outputs": []
    },
    {
      "cell_type": "code",
      "metadata": {
        "id": "NoXhTenAcWKR"
      },
      "source": [
        "sequences = tokenizer.texts_to_sequences(list2)"
      ],
      "execution_count": 24,
      "outputs": []
    },
    {
      "cell_type": "code",
      "metadata": {
        "colab": {
          "base_uri": "https://localhost:8080/"
        },
        "id": "aW5fngBgc0Pu",
        "outputId": "8b4c03db-9a6c-44e9-d17d-de72deec37e3"
      },
      "source": [
        "sequences[0]"
      ],
      "execution_count": 25,
      "outputs": [
        {
          "output_type": "execute_result",
          "data": {
            "text/plain": [
              "[25,\n",
              " 3,\n",
              " 1,\n",
              " 74,\n",
              " 2016,\n",
              " 43,\n",
              " 1041,\n",
              " 10,\n",
              " 97,\n",
              " 145,\n",
              " 38,\n",
              " 3040,\n",
              " 389,\n",
              " 18,\n",
              " 224,\n",
              " 26,\n",
              " 3152,\n",
              " 29,\n",
              " 22,\n",
              " 199,\n",
              " 12,\n",
              " 9,\n",
              " 5,\n",
              " 606,\n",
              " 44,\n",
              " 585,\n",
              " 15,\n",
              " 65,\n",
              " 6,\n",
              " 6,\n",
              " 1,\n",
              " 85,\n",
              " 144,\n",
              " 10,\n",
              " 3196,\n",
              " 65,\n",
              " 41,\n",
              " 3040,\n",
              " 11,\n",
              " 88,\n",
              " 5297,\n",
              " 2,\n",
              " 14775,\n",
              " 132,\n",
              " 3,\n",
              " 553,\n",
              " 58,\n",
              " 260,\n",
              " 8,\n",
              " 199,\n",
              " 34,\n",
              " 1,\n",
              " 641,\n",
              " 137,\n",
              " 1704,\n",
              " 65,\n",
              " 9,\n",
              " 5,\n",
              " 20,\n",
              " 113,\n",
              " 14,\n",
              " 1,\n",
              " 7776,\n",
              " 2285,\n",
              " 37,\n",
              " 11268,\n",
              " 9,\n",
              " 113,\n",
              " 2550,\n",
              " 53,\n",
              " 5820,\n",
              " 15,\n",
              " 5410,\n",
              " 4,\n",
              " 1437,\n",
              " 366,\n",
              " 37,\n",
              " 553,\n",
              " 88,\n",
              " 5,\n",
              " 3759,\n",
              " 8,\n",
              " 1,\n",
              " 349,\n",
              " 351,\n",
              " 3,\n",
              " 1,\n",
              " 641,\n",
              " 6,\n",
              " 6,\n",
              " 7,\n",
              " 5,\n",
              " 427,\n",
              " 3040,\n",
              " 12,\n",
              " 10,\n",
              " 5,\n",
              " 1,\n",
              " 11437,\n",
              " 352,\n",
              " 4,\n",
              " 1,\n",
              " 14489,\n",
              " 6717,\n",
              " 2495,\n",
              " 1022,\n",
              " 50211,\n",
              " 7,\n",
              " 2665,\n",
              " 1383,\n",
              " 19,\n",
              " 22609,\n",
              " 512,\n",
              " 31,\n",
              " 4592,\n",
              " 2412,\n",
              " 3,\n",
              " 1,\n",
              " 1169,\n",
              " 112,\n",
              " 27,\n",
              " 1,\n",
              " 6898,\n",
              " 24,\n",
              " 2860,\n",
              " 11751,\n",
              " 2,\n",
              " 380,\n",
              " 50212,\n",
              " 33,\n",
              " 16288,\n",
              " 5,\n",
              " 20,\n",
              " 292,\n",
              " 19,\n",
              " 1,\n",
              " 4810,\n",
              " 2870,\n",
              " 512,\n",
              " 5,\n",
              " 335,\n",
              " 4,\n",
              " 104,\n",
              " 24323,\n",
              " 8031,\n",
              " 39192,\n",
              " 14490,\n",
              " 4964,\n",
              " 7656,\n",
              " 2403,\n",
              " 2,\n",
              " 49,\n",
              " 33,\n",
              " 43653,\n",
              " 319,\n",
              " 8952,\n",
              " 7152,\n",
              " 12245,\n",
              " 2,\n",
              " 8550,\n",
              " 31210,\n",
              " 22,\n",
              " 109,\n",
              " 218,\n",
              " 235,\n",
              " 6,\n",
              " 6,\n",
              " 57,\n",
              " 129,\n",
              " 1,\n",
              " 275,\n",
              " 1302,\n",
              " 3,\n",
              " 1,\n",
              " 113,\n",
              " 5,\n",
              " 674,\n",
              " 4,\n",
              " 1,\n",
              " 188,\n",
              " 10,\n",
              " 7,\n",
              " 261,\n",
              " 112,\n",
              " 74,\n",
              " 269,\n",
              " 563,\n",
              " 2960,\n",
              " 809,\n",
              " 178,\n",
              " 1274,\n",
              " 4098,\n",
              " 14,\n",
              " 2451,\n",
              " 1201,\n",
              " 809,\n",
              " 1402,\n",
              " 809,\n",
              " 856,\n",
              " 3040,\n",
              " 148,\n",
              " 930,\n",
              " 180,\n",
              " 1,\n",
              " 85,\n",
              " 389,\n",
              " 120,\n",
              " 205,\n",
              " 3196,\n",
              " 65,\n",
              " 12,\n",
              " 33,\n",
              " 1585,\n",
              " 7,\n",
              " 11,\n",
              " 2193,\n",
              " 406,\n",
              " 129,\n",
              " 11,\n",
              " 1550,\n",
              " 14,\n",
              " 7,\n",
              " 16,\n",
              " 12,\n",
              " 285,\n",
              " 49,\n",
              " 1386,\n",
              " 1241,\n",
              " 14,\n",
              " 3040,\n",
              " 2,\n",
              " 186,\n",
              " 10002,\n",
              " 4,\n",
              " 1,\n",
              " 292,\n",
              " 1998,\n",
              " 3,\n",
              " 2095,\n",
              " 553,\n",
              " 20,\n",
              " 38,\n",
              " 553,\n",
              " 16,\n",
              " 7542,\n",
              " 7043,\n",
              " 4934,\n",
              " 32,\n",
              " 224,\n",
              " 26,\n",
              " 2934,\n",
              " 40,\n",
              " 14,\n",
              " 22610,\n",
              " 6764,\n",
              " 32,\n",
              " 224,\n",
              " 488,\n",
              " 19,\n",
              " 621,\n",
              " 2,\n",
              " 72,\n",
              " 235,\n",
              " 15,\n",
              " 7,\n",
              " 66,\n",
              " 7482,\n",
              " 633,\n",
              " 686,\n",
              " 6764,\n",
              " 106,\n",
              " 642,\n",
              " 80,\n",
              " 1169,\n",
              " 18781,\n",
              " 674,\n",
              " 4,\n",
              " 63,\n",
              " 558,\n",
              " 3,\n",
              " 882,\n",
              " 1978,\n",
              " 37,\n",
              " 1169,\n",
              " 543,\n",
              " 145,\n",
              " 3040,\n",
              " 18,\n",
              " 193,\n",
              " 420,\n",
              " 3776,\n",
              " 15,\n",
              " 44,\n",
              " 5,\n",
              " 3263,\n",
              " 788,\n",
              " 1563,\n",
              " 42,\n",
              " 18,\n",
              " 47,\n",
              " 72,\n",
              " 8,\n",
              " 1185,\n",
              " 15,\n",
              " 123,\n",
              " 4032,\n",
              " 473]"
            ]
          },
          "metadata": {},
          "execution_count": 25
        }
      ]
    },
    {
      "cell_type": "code",
      "metadata": {
        "id": "z7429U1VhxGH"
      },
      "source": [
        "X = pad_sequences(sequences)"
      ],
      "execution_count": 26,
      "outputs": []
    },
    {
      "cell_type": "code",
      "metadata": {
        "id": "3GdbIxQ-ebY8"
      },
      "source": [
        "vocab_size = len(tokenizer.word_index)+1"
      ],
      "execution_count": 27,
      "outputs": []
    },
    {
      "cell_type": "code",
      "metadata": {
        "id": "-b-LgALmiwzS"
      },
      "source": [
        "y = df.sentiment"
      ],
      "execution_count": 28,
      "outputs": []
    },
    {
      "cell_type": "code",
      "metadata": {
        "id": "EECL7_VgdgcI"
      },
      "source": [
        "y = df.sentiment.replace(to_replace={'positive':0,'negative':1})"
      ],
      "execution_count": 29,
      "outputs": []
    },
    {
      "cell_type": "code",
      "metadata": {
        "colab": {
          "base_uri": "https://localhost:8080/"
        },
        "id": "Xe9z7OO2dzxW",
        "outputId": "c414f855-f8d5-4bec-8e2f-1260579f9178"
      },
      "source": [
        "y"
      ],
      "execution_count": 30,
      "outputs": [
        {
          "output_type": "execute_result",
          "data": {
            "text/plain": [
              "0        0\n",
              "1        0\n",
              "2        0\n",
              "3        1\n",
              "4        0\n",
              "        ..\n",
              "49995    0\n",
              "49996    1\n",
              "49997    1\n",
              "49998    1\n",
              "49999    1\n",
              "Name: sentiment, Length: 50000, dtype: int64"
            ]
          },
          "metadata": {},
          "execution_count": 30
        }
      ]
    },
    {
      "cell_type": "code",
      "metadata": {
        "id": "9kSmMW-Yd1NP"
      },
      "source": [
        "model = Sequential()"
      ],
      "execution_count": 31,
      "outputs": []
    },
    {
      "cell_type": "code",
      "metadata": {
        "id": "JPg2YT5qeBVR"
      },
      "source": [
        "model.add(Embedding(vocab_size, 10, input_length=len(sequences) ))\n",
        "model.add(Bidirectional(LSTM(50, return_sequences=True)))\n",
        "model.add(LSTM(59))\n",
        "# model.add(Dense(100, activation=\"relu\"))\n",
        "model.add(Dense(1, activation=\"sigmoid\"))"
      ],
      "execution_count": 32,
      "outputs": []
    },
    {
      "cell_type": "code",
      "metadata": {
        "id": "q6w4J3zfeB_k",
        "colab": {
          "base_uri": "https://localhost:8080/"
        },
        "outputId": "70f73e17-ccc5-4e5a-e6b0-c2791411ce60"
      },
      "source": [
        "model.summary()"
      ],
      "execution_count": 33,
      "outputs": [
        {
          "output_type": "stream",
          "name": "stdout",
          "text": [
            "Model: \"sequential\"\n",
            "_________________________________________________________________\n",
            "Layer (type)                 Output Shape              Param #   \n",
            "=================================================================\n",
            "embedding (Embedding)        (None, 50000, 10)         994770    \n",
            "_________________________________________________________________\n",
            "bidirectional (Bidirectional (None, 50000, 100)        24400     \n",
            "_________________________________________________________________\n",
            "lstm_1 (LSTM)                (None, 59)                37760     \n",
            "_________________________________________________________________\n",
            "dense (Dense)                (None, 1)                 60        \n",
            "=================================================================\n",
            "Total params: 1,056,990\n",
            "Trainable params: 1,056,990\n",
            "Non-trainable params: 0\n",
            "_________________________________________________________________\n"
          ]
        }
      ]
    },
    {
      "cell_type": "code",
      "metadata": {
        "colab": {
          "base_uri": "https://localhost:8080/",
          "height": 466
        },
        "id": "bMbC8xPDft-l",
        "outputId": "a97dbcfb-fde1-4f9f-f176-e9b7df171c82"
      },
      "source": [
        "from tensorflow import keras\n",
        "from keras.utils.vis_utils import plot_model\n",
        "\n",
        "keras.utils.plot_model(model, to_file='plot.png', show_layer_names=True)"
      ],
      "execution_count": 34,
      "outputs": [
        {
          "output_type": "execute_result",
          "data": {
            "image/png": "[encoded data removed]",
            "text/plain": [
              "<IPython.core.display.Image object>"
            ]
          },
          "metadata": {},
          "execution_count": 34
        }
      ]
    },
    {
      "cell_type": "code",
      "metadata": {
        "colab": {
          "base_uri": "https://localhost:8080/"
        },
        "id": "0dqrNZy4fvwA",
        "outputId": "ee6622b7-b876-44dc-eba2-7b6e0d1ce111"
      },
      "source": [
        "type(X)\n",
        "X.shape"
      ],
      "execution_count": 35,
      "outputs": [
        {
          "output_type": "execute_result",
          "data": {
            "text/plain": [
              "(50000, 2380)"
            ]
          },
          "metadata": {},
          "execution_count": 35
        }
      ]
    },
    {
      "cell_type": "code",
      "metadata": {
        "colab": {
          "base_uri": "https://localhost:8080/"
        },
        "id": "Qp287erngp8m",
        "outputId": "ff356287-ac65-4446-f430-f269ffc40ba6"
      },
      "source": [
        "# y = list(y)\n",
        "y.shape"
      ],
      "execution_count": 36,
      "outputs": [
        {
          "output_type": "execute_result",
          "data": {
            "text/plain": [
              "(50000,)"
            ]
          },
          "metadata": {},
          "execution_count": 36
        }
      ]
    },
    {
      "cell_type": "code",
      "metadata": {
        "id": "CpXhuWz-5N9l"
      },
      "source": [
        "from tensorflow.keras.callbacks import ModelCheckpoint\n",
        "\n",
        "checkpoint = ModelCheckpoint(\"next_words.h5\", monitor='loss', verbose=1, save_best_only=True)\n",
        "model.compile(loss=\"binary_crossentropy\", optimizer='adam',metrics = ['accuracy'])\n"
      ],
      "execution_count": 41,
      "outputs": []
    },
    {
      "cell_type": "code",
      "metadata": {
        "colab": {
          "base_uri": "https://localhost:8080/"
        },
        "id": "szZIB0R6f6cf",
        "outputId": "1b07478f-8493-47a3-9d5b-53bba0309ef3"
      },
      "source": [
        "model.fit(X[:10000],y[:10000], epochs=5, batch_size=32, callbacks=[checkpoint])"
      ],
      "execution_count": 42,
      "outputs": [
        {
          "output_type": "stream",
          "name": "stdout",
          "text": [
            "Epoch 1/5\n",
            "WARNING:tensorflow:Model was constructed with shape (None, 50000) for input KerasTensor(type_spec=TensorSpec(shape=(None, 50000), dtype=tf.float32, name='embedding_input'), name='embedding_input', description=\"created by layer 'embedding_input'\"), but it was called on an input with incompatible shape (None, 2380).\n",
            "WARNING:tensorflow:Model was constructed with shape (None, 50000) for input KerasTensor(type_spec=TensorSpec(shape=(None, 50000), dtype=tf.float32, name='embedding_input'), name='embedding_input', description=\"created by layer 'embedding_input'\"), but it was called on an input with incompatible shape (None, 2380).\n",
            "313/313 [==============================] - 216s 673ms/step - loss: 0.1635 - accuracy: 0.9425\n",
            "\n",
            "Epoch 00001: loss improved from inf to 0.16352, saving model to next_words.h5\n",
            "Epoch 2/5\n",
            "313/313 [==============================] - 211s 675ms/step - loss: 0.0629 - accuracy: 0.9798\n",
            "\n",
            "Epoch 00002: loss improved from 0.16352 to 0.06286, saving model to next_words.h5\n",
            "Epoch 3/5\n",
            "313/313 [==============================] - 211s 673ms/step - loss: 0.0621 - accuracy: 0.9816\n",
            "\n",
            "Epoch 00003: loss improved from 0.06286 to 0.06213, saving model to next_words.h5\n",
            "Epoch 4/5\n",
            "313/313 [==============================] - 211s 673ms/step - loss: 0.0285 - accuracy: 0.9911\n",
            "\n",
            "Epoch 00004: loss improved from 0.06213 to 0.02846, saving model to next_words.h5\n",
            "Epoch 5/5\n",
            "313/313 [==============================] - 211s 673ms/step - loss: 0.0267 - accuracy: 0.9909\n",
            "\n",
            "Epoch 00005: loss improved from 0.02846 to 0.02666, saving model to next_words.h5\n"
          ]
        },
        {
          "output_type": "execute_result",
          "data": {
            "text/plain": [
              "<keras.callbacks.History at 0x7f474326e250>"
            ]
          },
          "metadata": {},
          "execution_count": 42
        }
      ]
    }
  ]
}